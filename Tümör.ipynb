{
  "nbformat": 4,
  "nbformat_minor": 0,
  "metadata": {
    "colab": {
      "provenance": [],
      "include_colab_link": true
    },
    "kernelspec": {
      "name": "python3",
      "display_name": "Python 3"
    },
    "language_info": {
      "name": "python"
    },
    "accelerator": "GPU",
    "gpuClass": "standard"
  },
  "cells": [
    {
      "cell_type": "markdown",
      "metadata": {
        "id": "view-in-github",
        "colab_type": "text"
      },
      "source": [
        "<a href=\"https://colab.research.google.com/github/ErkanGENC/Brain_detection/blob/main/T%C3%BCm%C3%B6r.ipynb\" target=\"_parent\"><img src=\"https://colab.research.google.com/assets/colab-badge.svg\" alt=\"Open In Colab\"/></a>"
      ]
    },
    {
      "cell_type": "code",
      "execution_count": 95,
      "metadata": {
        "id": "HTc1RJo_gIAY",
        "colab": {
          "base_uri": "https://localhost:8080/"
        },
        "outputId": "46a7e535-ae64-4900-e2db-df8228a17bb9"
      },
      "outputs": [
        {
          "output_type": "stream",
          "name": "stdout",
          "text": [
            "Drive already mounted at /content/gdrive/; to attempt to forcibly remount, call drive.mount(\"/content/gdrive/\", force_remount=True).\n"
          ]
        }
      ],
      "source": [
        "from google.colab import drive\n",
        "from tensorflow.keras.utils import load_img\n",
        "import os\n",
        "import matplotlib.pyplot as plt\n",
        "import cv2\n",
        "from PIL import Image\n",
        "import numpy as np\n",
        "from sklearn.utils import shuffle\n",
        "from sklearn.model_selection import train_test_split\n",
        "import tensorflow as tf\n",
        "from keras.utils import to_categorical\n",
        "from keras.models import Sequential\n",
        "import pandas as pd\n",
        "from keras.layers import Dense,Conv2D,Flatten,MaxPooling2D,BatchNormalization,Dropout,GlobalAveragePooling2D\n",
        "\n",
        "drive.mount(\"/content/gdrive/\")"
      ]
    },
    {
      "cell_type": "code",
      "source": [
        "cd /gdrive/MyDrive/Brain-Tumor-Classification-DataSet-master"
      ],
      "metadata": {
        "id": "eRPtzQ-ZBMgy",
        "colab": {
          "base_uri": "https://localhost:8080/"
        },
        "outputId": "f9126b2a-424e-498a-afec-9e5c07136976"
      },
      "execution_count": 96,
      "outputs": [
        {
          "output_type": "stream",
          "name": "stdout",
          "text": [
            "[Errno 2] No such file or directory: '/gdrive/MyDrive/Brain-Tumor-Classification-DataSet-master'\n",
            "/content\n"
          ]
        }
      ]
    },
    {
      "cell_type": "code",
      "source": [
        "os.listdir()\n",
        "os.getcwd()"
      ],
      "metadata": {
        "id": "v561MhQGB2qU",
        "colab": {
          "base_uri": "https://localhost:8080/",
          "height": 36
        },
        "outputId": "a28adccf-3be4-4e10-fc18-29de6e0f15e4"
      },
      "execution_count": 97,
      "outputs": [
        {
          "output_type": "execute_result",
          "data": {
            "text/plain": [
              "'/content'"
            ],
            "application/vnd.google.colaboratory.intrinsic+json": {
              "type": "string"
            }
          },
          "metadata": {},
          "execution_count": 97
        }
      ]
    },
    {
      "cell_type": "code",
      "source": [
        "url = \"/content/gdrive/.shortcut-targets-by-id/1qvAeI1c-3Xpfbkt1d8JeXMAPPyV2dZzj/Brain-Tumor-Classification-DataSet-master\"\n",
        "\n",
        "train_img = []\n",
        "train_label = []\n",
        "\n",
        "etiket = ['glioma_tumor','no_tumor','meningioma_tumor','pituitary_tumor']\n",
        "\n",
        "trainUrl = os.path.join(url,\"Training\")\n",
        "testUrl = os.path.join(url,\"Testing\")\n",
        "\n",
        "for x in etiket:\n",
        "  trainUrl2 = os.path.join(trainUrl,x)\n",
        "  for y in os.listdir(trainUrl2):\n",
        "    img = cv2.imread(os.path.join(trainUrl2,y))\n",
        "    img = cv2.resize(img,(128,128))\n",
        "    train_img.append(img)\n",
        "    train_label.append(x)\n",
        "\n",
        "\n",
        "for x in etiket:\n",
        "  testUrl2 = os.path.join(testUrl,x)\n",
        "  for y in os.listdir(testUrl2):\n",
        "    img = cv2.imread(os.path.join(testUrl2,y))\n",
        "    img = cv2.resize(img,(128,128))\n",
        "    train_img.append(img)\n",
        "    train_label.append(x)\n",
        "\n",
        "\n",
        "train_img = np.array(train_img)\n",
        "train_label = np.array(train_label)\n"
      ],
      "metadata": {
        "id": "WILb17GyBNXE"
      },
      "execution_count": 98,
      "outputs": []
    },
    {
      "cell_type": "code",
      "source": [
        "from google.colab.patches import cv2_imshow"
      ],
      "metadata": {
        "id": "kg3stORheqhD"
      },
      "execution_count": 99,
      "outputs": []
    },
    {
      "cell_type": "code",
      "source": [
        "#for x in etiket:\n",
        "#  testUrl2 = os.path.join(testUrl,x)\n",
        "#  for y in os.listdir(testUrl2):\n",
        "#    img = load_img(os.path.join(testUrl2,y))\n",
        "#    img = cv2.imread(os.path.join(testUrl2,y))\n",
        "#    cv2_imshow(img)"
      ],
      "metadata": {
        "id": "P6J9EBwabZ70"
      },
      "execution_count": 100,
      "outputs": []
    },
    {
      "cell_type": "code",
      "source": [
        "train_img.shape"
      ],
      "metadata": {
        "id": "dfZL4G9ZcK-f",
        "colab": {
          "base_uri": "https://localhost:8080/"
        },
        "outputId": "69d31c95-2928-4aa2-b547-a2077ed0f3e1"
      },
      "execution_count": 101,
      "outputs": [
        {
          "output_type": "execute_result",
          "data": {
            "text/plain": [
              "(3264, 128, 128, 3)"
            ]
          },
          "metadata": {},
          "execution_count": 101
        }
      ]
    },
    {
      "cell_type": "code",
      "source": [
        "train_label.shape"
      ],
      "metadata": {
        "id": "5tp0SI3AK5b9",
        "colab": {
          "base_uri": "https://localhost:8080/"
        },
        "outputId": "846b417d-8662-4d65-fd2d-4323c1f11dee"
      },
      "execution_count": 102,
      "outputs": [
        {
          "output_type": "execute_result",
          "data": {
            "text/plain": [
              "(3264,)"
            ]
          },
          "metadata": {},
          "execution_count": 102
        }
      ]
    },
    {
      "cell_type": "code",
      "source": [
        "train_img,train_label = shuffle(train_img,train_label,random_state=12)"
      ],
      "metadata": {
        "id": "qNat9jRhM4ha"
      },
      "execution_count": 103,
      "outputs": []
    },
    {
      "cell_type": "code",
      "source": [
        "train_label.shape"
      ],
      "metadata": {
        "id": "lNFQ8qwoOl7C",
        "colab": {
          "base_uri": "https://localhost:8080/"
        },
        "outputId": "f2bd0876-ff7c-46ea-a5a5-5bd8f7509464"
      },
      "execution_count": 104,
      "outputs": [
        {
          "output_type": "execute_result",
          "data": {
            "text/plain": [
              "(3264,)"
            ]
          },
          "metadata": {},
          "execution_count": 104
        }
      ]
    },
    {
      "cell_type": "code",
      "source": [
        "train_img,test_img,train_label,test_label = train_test_split(train_img,train_label,test_size=0.3)"
      ],
      "metadata": {
        "id": "h2gKVx7XRvIk"
      },
      "execution_count": 105,
      "outputs": []
    },
    {
      "cell_type": "code",
      "source": [
        "print(train_img.shape)\n",
        "print(train_label.shape)\n",
        "print(test_img.shape)\n",
        "print(test_label.shape)"
      ],
      "metadata": {
        "id": "s6pyVxH9Rwfv",
        "colab": {
          "base_uri": "https://localhost:8080/"
        },
        "outputId": "2397c704-2d52-4d7b-9803-4019642fab9c"
      },
      "execution_count": 106,
      "outputs": [
        {
          "output_type": "stream",
          "name": "stdout",
          "text": [
            "(2284, 128, 128, 3)\n",
            "(2284,)\n",
            "(980, 128, 128, 3)\n",
            "(980,)\n"
          ]
        }
      ]
    },
    {
      "cell_type": "code",
      "source": [
        "trainLabelNew = []\n",
        "testLabelNew = []\n",
        "\n",
        "for i in train_label:\n",
        "    trainLabelNew.append(etiket.index(i))\n",
        "train_label = trainLabelNew\n",
        "train_label = to_categorical(train_label)\n",
        "\n",
        "\n",
        "testLabelNew = []\n",
        "for i in test_label:\n",
        "    testLabelNew.append(etiket.index(i))\n",
        "test_label = testLabelNew\n",
        "test_label = to_categorical(test_label)\n"
      ],
      "metadata": {
        "id": "0j-G_B2oYpAn"
      },
      "execution_count": 107,
      "outputs": []
    },
    {
      "cell_type": "code",
      "source": [
        "print(train_img.shape)\n",
        "print(train_label.shape)\n",
        "print(test_img.shape)"
      ],
      "metadata": {
        "id": "8_uIMBUda6Z3",
        "colab": {
          "base_uri": "https://localhost:8080/"
        },
        "outputId": "a49740cc-78fd-496c-b9ea-4095ec9bf4d7"
      },
      "execution_count": 108,
      "outputs": [
        {
          "output_type": "stream",
          "name": "stdout",
          "text": [
            "(2284, 128, 128, 3)\n",
            "(2284, 4)\n",
            "(980, 128, 128, 3)\n"
          ]
        }
      ]
    },
    {
      "cell_type": "code",
      "source": [
        "test_label.shape"
      ],
      "metadata": {
        "colab": {
          "base_uri": "https://localhost:8080/"
        },
        "id": "dJd2_uHVkRhy",
        "outputId": "6efbf7c1-b410-4281-a945-0554ce885929"
      },
      "execution_count": 109,
      "outputs": [
        {
          "output_type": "execute_result",
          "data": {
            "text/plain": [
              "(980, 4)"
            ]
          },
          "metadata": {},
          "execution_count": 109
        }
      ]
    },
    {
      "cell_type": "markdown",
      "source": [
        "## Modeller"
      ],
      "metadata": {
        "id": "79qLmTvYqUQg"
      }
    },
    {
      "cell_type": "markdown",
      "source": [
        "### DenseNet"
      ],
      "metadata": {
        "id": "SavuWzPLveYR"
      }
    },
    {
      "cell_type": "code",
      "source": [
        "modelDenseNet = Sequential()\n",
        "\n",
        "\n",
        "modelDenseNet.add(Conv2D(64,kernel_size=(3,3),activation=\"relu\",input_shape=(128,128,3)))\n",
        "modelDenseNet.add(BatchNormalization())\n",
        "modelDenseNet.add(MaxPooling2D((2,2)))\n",
        "modelDenseNet.add(Conv2D(128,kernel_size=(3,3),activation=\"relu\"))\n",
        "modelDenseNet.add(BatchNormalization())\n",
        "modelDenseNet.add(MaxPooling2D(2,2))\n",
        "modelDenseNet.add(Conv2D(256,kernel_size=(3,3),activation=\"relu\"))\n",
        "modelDenseNet.add(BatchNormalization())\n",
        "modelDenseNet.add(GlobalAveragePooling2D())\n",
        "\n",
        "modelDenseNet.add(Flatten())\n",
        "\n",
        "modelDenseNet.add(Dense(256,activation=\"relu\"))\n",
        "modelDenseNet.add(Dropout(0.5))\n",
        "modelDenseNet.add(Dense(4,activation=\"softmax\"))"
      ],
      "metadata": {
        "id": "uMgGiCIYoTRR"
      },
      "execution_count": 110,
      "outputs": []
    },
    {
      "cell_type": "code",
      "source": [
        "modelDenseNet.compile(loss=\"categorical_crossentropy\",metrics=[\"accuracy\"],optimizer=\"adam\")"
      ],
      "metadata": {
        "id": "bezRIjSNpLw3"
      },
      "execution_count": 111,
      "outputs": []
    },
    {
      "cell_type": "code",
      "source": [
        "modelDenseNet.fit(train_img,train_label,epochs=30,batch_size=20,validation_split=0.2)"
      ],
      "metadata": {
        "colab": {
          "base_uri": "https://localhost:8080/"
        },
        "id": "P8ED5oq9qG7M",
        "outputId": "a0db19e3-8b67-4053-de18-678e5554ab96"
      },
      "execution_count": 112,
      "outputs": [
        {
          "output_type": "stream",
          "name": "stdout",
          "text": [
            "Epoch 1/30\n",
            "\u001b[1m92/92\u001b[0m \u001b[32m━━━━━━━━━━━━━━━━━━━━\u001b[0m\u001b[37m\u001b[0m \u001b[1m12s\u001b[0m 63ms/step - accuracy: 0.5423 - loss: 1.1335 - val_accuracy: 0.1926 - val_loss: 4.3079\n",
            "Epoch 2/30\n",
            "\u001b[1m92/92\u001b[0m \u001b[32m━━━━━━━━━━━━━━━━━━━━\u001b[0m\u001b[37m\u001b[0m \u001b[1m2s\u001b[0m 25ms/step - accuracy: 0.6426 - loss: 0.9174 - val_accuracy: 0.5361 - val_loss: 1.2971\n",
            "Epoch 3/30\n",
            "\u001b[1m92/92\u001b[0m \u001b[32m━━━━━━━━━━━━━━━━━━━━\u001b[0m\u001b[37m\u001b[0m \u001b[1m3s\u001b[0m 28ms/step - accuracy: 0.7267 - loss: 0.7152 - val_accuracy: 0.3742 - val_loss: 3.2357\n",
            "Epoch 4/30\n",
            "\u001b[1m92/92\u001b[0m \u001b[32m━━━━━━━━━━━━━━━━━━━━\u001b[0m\u001b[37m\u001b[0m \u001b[1m2s\u001b[0m 25ms/step - accuracy: 0.7584 - loss: 0.6554 - val_accuracy: 0.3304 - val_loss: 5.3474\n",
            "Epoch 5/30\n",
            "\u001b[1m92/92\u001b[0m \u001b[32m━━━━━━━━━━━━━━━━━━━━\u001b[0m\u001b[37m\u001b[0m \u001b[1m3s\u001b[0m 25ms/step - accuracy: 0.7521 - loss: 0.6067 - val_accuracy: 0.4595 - val_loss: 2.7367\n",
            "Epoch 6/30\n",
            "\u001b[1m92/92\u001b[0m \u001b[32m━━━━━━━━━━━━━━━━━━━━\u001b[0m\u001b[37m\u001b[0m \u001b[1m2s\u001b[0m 25ms/step - accuracy: 0.7899 - loss: 0.5515 - val_accuracy: 0.4201 - val_loss: 1.6368\n",
            "Epoch 7/30\n",
            "\u001b[1m92/92\u001b[0m \u001b[32m━━━━━━━━━━━━━━━━━━━━\u001b[0m\u001b[37m\u001b[0m \u001b[1m2s\u001b[0m 25ms/step - accuracy: 0.8165 - loss: 0.4826 - val_accuracy: 0.3545 - val_loss: 3.4915\n",
            "Epoch 8/30\n",
            "\u001b[1m92/92\u001b[0m \u001b[32m━━━━━━━━━━━━━━━━━━━━\u001b[0m\u001b[37m\u001b[0m \u001b[1m3s\u001b[0m 28ms/step - accuracy: 0.8195 - loss: 0.4927 - val_accuracy: 0.4858 - val_loss: 2.0580\n",
            "Epoch 9/30\n",
            "\u001b[1m92/92\u001b[0m \u001b[32m━━━━━━━━━━━━━━━━━━━━\u001b[0m\u001b[37m\u001b[0m \u001b[1m5s\u001b[0m 26ms/step - accuracy: 0.8280 - loss: 0.4765 - val_accuracy: 0.6039 - val_loss: 1.3678\n",
            "Epoch 10/30\n",
            "\u001b[1m92/92\u001b[0m \u001b[32m━━━━━━━━━━━━━━━━━━━━\u001b[0m\u001b[37m\u001b[0m \u001b[1m2s\u001b[0m 25ms/step - accuracy: 0.8349 - loss: 0.4308 - val_accuracy: 0.2779 - val_loss: 2.4479\n",
            "Epoch 11/30\n",
            "\u001b[1m92/92\u001b[0m \u001b[32m━━━━━━━━━━━━━━━━━━━━\u001b[0m\u001b[37m\u001b[0m \u001b[1m3s\u001b[0m 25ms/step - accuracy: 0.8501 - loss: 0.3992 - val_accuracy: 0.5777 - val_loss: 1.6557\n",
            "Epoch 12/30\n",
            "\u001b[1m92/92\u001b[0m \u001b[32m━━━━━━━━━━━━━━━━━━━━\u001b[0m\u001b[37m\u001b[0m \u001b[1m3s\u001b[0m 28ms/step - accuracy: 0.8664 - loss: 0.3471 - val_accuracy: 0.5405 - val_loss: 2.0969\n",
            "Epoch 13/30\n",
            "\u001b[1m92/92\u001b[0m \u001b[32m━━━━━━━━━━━━━━━━━━━━\u001b[0m\u001b[37m\u001b[0m \u001b[1m5s\u001b[0m 26ms/step - accuracy: 0.8702 - loss: 0.3468 - val_accuracy: 0.2867 - val_loss: 1.7073\n",
            "Epoch 14/30\n",
            "\u001b[1m92/92\u001b[0m \u001b[32m━━━━━━━━━━━━━━━━━━━━\u001b[0m\u001b[37m\u001b[0m \u001b[1m2s\u001b[0m 25ms/step - accuracy: 0.8806 - loss: 0.3368 - val_accuracy: 0.4048 - val_loss: 3.4862\n",
            "Epoch 15/30\n",
            "\u001b[1m92/92\u001b[0m \u001b[32m━━━━━━━━━━━━━━━━━━━━\u001b[0m\u001b[37m\u001b[0m \u001b[1m3s\u001b[0m 25ms/step - accuracy: 0.8894 - loss: 0.3023 - val_accuracy: 0.3063 - val_loss: 5.0048\n",
            "Epoch 16/30\n",
            "\u001b[1m92/92\u001b[0m \u001b[32m━━━━━━━━━━━━━━━━━━━━\u001b[0m\u001b[37m\u001b[0m \u001b[1m3s\u001b[0m 27ms/step - accuracy: 0.8890 - loss: 0.3030 - val_accuracy: 0.4267 - val_loss: 3.4777\n",
            "Epoch 17/30\n",
            "\u001b[1m92/92\u001b[0m \u001b[32m━━━━━━━━━━━━━━━━━━━━\u001b[0m\u001b[37m\u001b[0m \u001b[1m2s\u001b[0m 26ms/step - accuracy: 0.9208 - loss: 0.2195 - val_accuracy: 0.5930 - val_loss: 1.6866\n",
            "Epoch 18/30\n",
            "\u001b[1m92/92\u001b[0m \u001b[32m━━━━━━━━━━━━━━━━━━━━\u001b[0m\u001b[37m\u001b[0m \u001b[1m2s\u001b[0m 25ms/step - accuracy: 0.8959 - loss: 0.2801 - val_accuracy: 0.5602 - val_loss: 1.3963\n",
            "Epoch 19/30\n",
            "\u001b[1m92/92\u001b[0m \u001b[32m━━━━━━━━━━━━━━━━━━━━\u001b[0m\u001b[37m\u001b[0m \u001b[1m2s\u001b[0m 25ms/step - accuracy: 0.9301 - loss: 0.2089 - val_accuracy: 0.5646 - val_loss: 1.5226\n",
            "Epoch 20/30\n",
            "\u001b[1m92/92\u001b[0m \u001b[32m━━━━━━━━━━━━━━━━━━━━\u001b[0m\u001b[37m\u001b[0m \u001b[1m3s\u001b[0m 25ms/step - accuracy: 0.9334 - loss: 0.1900 - val_accuracy: 0.5646 - val_loss: 1.6268\n",
            "Epoch 21/30\n",
            "\u001b[1m92/92\u001b[0m \u001b[32m━━━━━━━━━━━━━━━━━━━━\u001b[0m\u001b[37m\u001b[0m \u001b[1m3s\u001b[0m 25ms/step - accuracy: 0.9330 - loss: 0.1804 - val_accuracy: 0.4530 - val_loss: 2.1219\n",
            "Epoch 22/30\n",
            "\u001b[1m92/92\u001b[0m \u001b[32m━━━━━━━━━━━━━━━━━━━━\u001b[0m\u001b[37m\u001b[0m \u001b[1m2s\u001b[0m 26ms/step - accuracy: 0.9517 - loss: 0.1472 - val_accuracy: 0.6214 - val_loss: 1.6383\n",
            "Epoch 23/30\n",
            "\u001b[1m92/92\u001b[0m \u001b[32m━━━━━━━━━━━━━━━━━━━━\u001b[0m\u001b[37m\u001b[0m \u001b[1m3s\u001b[0m 26ms/step - accuracy: 0.9506 - loss: 0.1420 - val_accuracy: 0.2013 - val_loss: 4.7795\n",
            "Epoch 24/30\n",
            "\u001b[1m92/92\u001b[0m \u001b[32m━━━━━━━━━━━━━━━━━━━━\u001b[0m\u001b[37m\u001b[0m \u001b[1m2s\u001b[0m 25ms/step - accuracy: 0.9484 - loss: 0.1560 - val_accuracy: 0.5339 - val_loss: 3.4998\n",
            "Epoch 25/30\n",
            "\u001b[1m92/92\u001b[0m \u001b[32m━━━━━━━━━━━━━━━━━━━━\u001b[0m\u001b[37m\u001b[0m \u001b[1m2s\u001b[0m 25ms/step - accuracy: 0.9636 - loss: 0.1229 - val_accuracy: 0.7746 - val_loss: 0.6960\n",
            "Epoch 26/30\n",
            "\u001b[1m92/92\u001b[0m \u001b[32m━━━━━━━━━━━━━━━━━━━━\u001b[0m\u001b[37m\u001b[0m \u001b[1m3s\u001b[0m 25ms/step - accuracy: 0.9630 - loss: 0.1115 - val_accuracy: 0.7812 - val_loss: 0.6758\n",
            "Epoch 27/30\n",
            "\u001b[1m92/92\u001b[0m \u001b[32m━━━━━━━━━━━━━━━━━━━━\u001b[0m\u001b[37m\u001b[0m \u001b[1m3s\u001b[0m 26ms/step - accuracy: 0.9701 - loss: 0.1063 - val_accuracy: 0.6039 - val_loss: 1.8737\n",
            "Epoch 28/30\n",
            "\u001b[1m92/92\u001b[0m \u001b[32m━━━━━━━━━━━━━━━━━━━━\u001b[0m\u001b[37m\u001b[0m \u001b[1m3s\u001b[0m 27ms/step - accuracy: 0.9640 - loss: 0.0973 - val_accuracy: 0.7133 - val_loss: 1.3309\n",
            "Epoch 29/30\n",
            "\u001b[1m92/92\u001b[0m \u001b[32m━━━━━━━━━━━━━━━━━━━━\u001b[0m\u001b[37m\u001b[0m \u001b[1m2s\u001b[0m 25ms/step - accuracy: 0.9787 - loss: 0.0714 - val_accuracy: 0.6411 - val_loss: 1.4803\n",
            "Epoch 30/30\n",
            "\u001b[1m92/92\u001b[0m \u001b[32m━━━━━━━━━━━━━━━━━━━━\u001b[0m\u001b[37m\u001b[0m \u001b[1m2s\u001b[0m 25ms/step - accuracy: 0.9716 - loss: 0.0832 - val_accuracy: 0.7877 - val_loss: 0.6559\n"
          ]
        },
        {
          "output_type": "execute_result",
          "data": {
            "text/plain": [
              "<keras.src.callbacks.history.History at 0x7c0642780ac0>"
            ]
          },
          "metadata": {},
          "execution_count": 112
        }
      ]
    },
    {
      "cell_type": "code",
      "source": [
        "loss1,accuracy1 = modelDenseNet.evaluate(test_img,test_label)"
      ],
      "metadata": {
        "colab": {
          "base_uri": "https://localhost:8080/"
        },
        "id": "rakzg7zhrQ0d",
        "outputId": "276d396c-4fd5-4724-fce2-8c4834e43747"
      },
      "execution_count": 113,
      "outputs": [
        {
          "output_type": "stream",
          "name": "stdout",
          "text": [
            "\u001b[1m31/31\u001b[0m \u001b[32m━━━━━━━━━━━━━━━━━━━━\u001b[0m\u001b[37m\u001b[0m \u001b[1m1s\u001b[0m 9ms/step - accuracy: 0.7942 - loss: 0.6530\n"
          ]
        }
      ]
    },
    {
      "cell_type": "markdown",
      "source": [
        "### ResNet"
      ],
      "metadata": {
        "id": "CA-hgIU5vkNM"
      }
    },
    {
      "cell_type": "code",
      "source": [
        "modelResnet = Sequential()\n",
        "\n",
        "\n",
        "modelResnet.add(Conv2D(32, kernel_size=(3, 3), activation='relu', input_shape=(128,128, 3)))\n",
        "modelResnet.add(Conv2D(32, kernel_size=(3, 3), activation='relu', padding='same'))\n",
        "modelResnet.add(MaxPooling2D(pool_size=(2, 2), strides=(2, 2)))\n",
        "\n",
        "modelResnet.add(Conv2D(64, kernel_size=(3, 3), activation='relu', padding='same'))\n",
        "modelResnet.add(Conv2D(64, kernel_size=(3, 3), activation='relu', padding='same'))\n",
        "modelResnet.add(MaxPooling2D(pool_size=(2, 2), strides=(2, 2)))\n",
        "\n",
        "modelResnet.add(Conv2D(128, kernel_size=(3, 3), activation='relu', padding='same'))\n",
        "modelResnet.add(Conv2D(128, kernel_size=(3, 3), activation='relu', padding='same'))\n",
        "modelResnet.add(Conv2D(128, kernel_size=(3, 3), activation='relu', padding='same'))\n",
        "modelResnet.add(MaxPooling2D(pool_size=(2, 2), strides=(2, 2)))\n",
        "\n",
        "modelResnet.add(Conv2D(256, kernel_size=(3, 3), activation='relu', padding='same'))\n",
        "modelResnet.add(Conv2D(256, kernel_size=(3, 3), activation='relu', padding='same'))\n",
        "modelResnet.add(Conv2D(256, kernel_size=(3, 3), activation='relu', padding='same'))\n",
        "modelResnet.add(MaxPooling2D(pool_size=(2, 2), strides=(2, 2)))\n",
        "\n",
        "modelResnet.add(Flatten())\n",
        "\n",
        "modelResnet.add(Dense(512, activation='relu'))\n",
        "modelResnet.add(Dropout(0.5))\n",
        "\n",
        "modelResnet.add(Dense(512, activation='relu'))\n",
        "modelResnet.add(Dropout(0.5))\n",
        "\n",
        "modelResnet.add(Dense(4, activation='softmax'))\n",
        "\n",
        "\n",
        "modelResnet.compile(loss=\"categorical_crossentropy\",metrics=[\"accuracy\"],optimizer=\"adam\")\n",
        "\n",
        "history = modelResnet.fit(train_img,train_label,epochs=10,validation_split=0.2,batch_size=128)"
      ],
      "metadata": {
        "colab": {
          "base_uri": "https://localhost:8080/"
        },
        "id": "hNV8-bjBvn9_",
        "outputId": "bd893557-ccb1-495f-cde8-d0a09264c147"
      },
      "execution_count": 114,
      "outputs": [
        {
          "output_type": "stream",
          "name": "stdout",
          "text": [
            "Epoch 1/10\n",
            "\u001b[1m15/15\u001b[0m \u001b[32m━━━━━━━━━━━━━━━━━━━━\u001b[0m\u001b[37m\u001b[0m \u001b[1m12s\u001b[0m 485ms/step - accuracy: 0.2546 - loss: 2.8258 - val_accuracy: 0.3063 - val_loss: 1.3553\n",
            "Epoch 2/10\n",
            "\u001b[1m15/15\u001b[0m \u001b[32m━━━━━━━━━━━━━━━━━━━━\u001b[0m\u001b[37m\u001b[0m \u001b[1m3s\u001b[0m 204ms/step - accuracy: 0.3865 - loss: 1.3073 - val_accuracy: 0.4070 - val_loss: 1.4433\n",
            "Epoch 3/10\n",
            "\u001b[1m15/15\u001b[0m \u001b[32m━━━━━━━━━━━━━━━━━━━━\u001b[0m\u001b[37m\u001b[0m \u001b[1m3s\u001b[0m 213ms/step - accuracy: 0.4501 - loss: 1.2424 - val_accuracy: 0.4311 - val_loss: 1.1890\n",
            "Epoch 4/10\n",
            "\u001b[1m15/15\u001b[0m \u001b[32m━━━━━━━━━━━━━━━━━━━━\u001b[0m\u001b[37m\u001b[0m \u001b[1m5s\u001b[0m 215ms/step - accuracy: 0.4908 - loss: 1.1533 - val_accuracy: 0.5295 - val_loss: 1.0306\n",
            "Epoch 5/10\n",
            "\u001b[1m15/15\u001b[0m \u001b[32m━━━━━━━━━━━━━━━━━━━━\u001b[0m\u001b[37m\u001b[0m \u001b[1m3s\u001b[0m 207ms/step - accuracy: 0.5356 - loss: 0.9923 - val_accuracy: 0.6061 - val_loss: 0.9392\n",
            "Epoch 6/10\n",
            "\u001b[1m15/15\u001b[0m \u001b[32m━━━━━━━━━━━━━━━━━━━━\u001b[0m\u001b[37m\u001b[0m \u001b[1m5s\u001b[0m 209ms/step - accuracy: 0.6061 - loss: 0.8658 - val_accuracy: 0.6433 - val_loss: 0.8019\n",
            "Epoch 7/10\n",
            "\u001b[1m15/15\u001b[0m \u001b[32m━━━━━━━━━━━━━━━━━━━━\u001b[0m\u001b[37m\u001b[0m \u001b[1m5s\u001b[0m 210ms/step - accuracy: 0.6543 - loss: 0.7876 - val_accuracy: 0.6543 - val_loss: 0.7818\n",
            "Epoch 8/10\n",
            "\u001b[1m15/15\u001b[0m \u001b[32m━━━━━━━━━━━━━━━━━━━━\u001b[0m\u001b[37m\u001b[0m \u001b[1m3s\u001b[0m 211ms/step - accuracy: 0.6556 - loss: 0.7725 - val_accuracy: 0.7002 - val_loss: 0.7697\n",
            "Epoch 9/10\n",
            "\u001b[1m15/15\u001b[0m \u001b[32m━━━━━━━━━━━━━━━━━━━━\u001b[0m\u001b[37m\u001b[0m \u001b[1m3s\u001b[0m 212ms/step - accuracy: 0.6834 - loss: 0.6999 - val_accuracy: 0.6674 - val_loss: 0.7336\n",
            "Epoch 10/10\n",
            "\u001b[1m15/15\u001b[0m \u001b[32m━━━━━━━━━━━━━━━━━━━━\u001b[0m\u001b[37m\u001b[0m \u001b[1m3s\u001b[0m 222ms/step - accuracy: 0.7345 - loss: 0.6300 - val_accuracy: 0.7199 - val_loss: 0.7737\n"
          ]
        }
      ]
    },
    {
      "cell_type": "code",
      "source": [
        "loss2,accuracy2 = modelResnet.evaluate(test_img,test_label)"
      ],
      "metadata": {
        "colab": {
          "base_uri": "https://localhost:8080/"
        },
        "id": "329jSHDkw8Ab",
        "outputId": "1b87b336-7b90-45f8-a81c-23ed6eb6fdad"
      },
      "execution_count": 115,
      "outputs": [
        {
          "output_type": "stream",
          "name": "stdout",
          "text": [
            "\u001b[1m31/31\u001b[0m \u001b[32m━━━━━━━━━━━━━━━━━━━━\u001b[0m\u001b[37m\u001b[0m \u001b[1m1s\u001b[0m 33ms/step - accuracy: 0.7257 - loss: 0.7961\n"
          ]
        }
      ]
    },
    {
      "cell_type": "markdown",
      "source": [
        "### AlexNet"
      ],
      "metadata": {
        "id": "FYzt4Zci2Ezi"
      }
    },
    {
      "cell_type": "code",
      "source": [
        "modelAlexnet = Sequential()\n",
        "\n",
        "\n",
        "modelAlexnet.add(Conv2D(96,kernel_size=(11,11),strides=(4,4),activation=\"relu\",input_shape=(128,128,3)))\n",
        "\n",
        "modelAlexnet.add(MaxPooling2D(pool_size=(3, 3), strides= (2, 2)))\n",
        "modelAlexnet.add(Conv2D(256,kernel_size=(5,5),strides=(1,1),activation=\"relu\",padding=\"same\"))\n",
        "\n",
        "modelAlexnet.add(MaxPooling2D(pool_size=(2, 2), strides=(2, 2)))\n",
        "modelAlexnet.add(Conv2D(384,kernel_size=(3,3),strides=(1,1),activation=\"relu\",padding=\"same\"))\n",
        "\n",
        "modelAlexnet.add(Conv2D(384,kernel_size=(3,3),strides=(1,1),activation=\"relu\",padding=\"same\"))\n",
        "\n",
        "modelAlexnet.add(Conv2D(256,kernel_size=(3,3),strides=(1,1),activation=\"relu\",padding=\"same\"))\n",
        "\n",
        "modelAlexnet.add(MaxPooling2D(pool_size=(1, 1), strides=(2, 2)))\n",
        "\n",
        "modelAlexnet.add(Flatten())\n",
        "\n",
        "modelAlexnet.add(Dense(4096,activation=\"relu\"))\n",
        "modelAlexnet.add(Dropout(0.5))\n",
        "modelAlexnet.add(Dense(4096,activation=\"relu\"))\n",
        "modelAlexnet.add(Dropout(0.5))\n",
        "modelAlexnet.add(Dense(4,activation=\"softmax\"))"
      ],
      "metadata": {
        "id": "sIq82e-S2MCt"
      },
      "execution_count": 116,
      "outputs": []
    },
    {
      "cell_type": "code",
      "source": [
        "modelAlexnet.compile(metrics=[\"accuracy\"],loss=\"categorical_crossentropy\",optimizer=\"adam\")"
      ],
      "metadata": {
        "id": "XNDU2gFO2QLz"
      },
      "execution_count": 117,
      "outputs": []
    },
    {
      "cell_type": "code",
      "source": [
        "history = modelAlexnet.fit(train_img,train_label,epochs=10,batch_size=128,validation_split=0.2)"
      ],
      "metadata": {
        "colab": {
          "base_uri": "https://localhost:8080/"
        },
        "id": "zmh6Z1Wt2RhZ",
        "outputId": "b6d9cb20-7f56-46bd-9a1c-591e94cc3a87"
      },
      "execution_count": 118,
      "outputs": [
        {
          "output_type": "stream",
          "name": "stdout",
          "text": [
            "Epoch 1/10\n",
            "\u001b[1m15/15\u001b[0m \u001b[32m━━━━━━━━━━━━━━━━━━━━\u001b[0m\u001b[37m\u001b[0m \u001b[1m8s\u001b[0m 307ms/step - accuracy: 0.3068 - loss: 41.7167 - val_accuracy: 0.2691 - val_loss: 1.6202\n",
            "Epoch 2/10\n",
            "\u001b[1m15/15\u001b[0m \u001b[32m━━━━━━━━━━━━━━━━━━━━\u001b[0m\u001b[37m\u001b[0m \u001b[1m5s\u001b[0m 63ms/step - accuracy: 0.4092 - loss: 1.3001 - val_accuracy: 0.4530 - val_loss: 1.2631\n",
            "Epoch 3/10\n",
            "\u001b[1m15/15\u001b[0m \u001b[32m━━━━━━━━━━━━━━━━━━━━\u001b[0m\u001b[37m\u001b[0m \u001b[1m1s\u001b[0m 60ms/step - accuracy: 0.5091 - loss: 1.1318 - val_accuracy: 0.4792 - val_loss: 1.0384\n",
            "Epoch 4/10\n",
            "\u001b[1m15/15\u001b[0m \u001b[32m━━━━━━━━━━━━━━━━━━━━\u001b[0m\u001b[37m\u001b[0m \u001b[1m1s\u001b[0m 59ms/step - accuracy: 0.5389 - loss: 1.0314 - val_accuracy: 0.4836 - val_loss: 1.1721\n",
            "Epoch 5/10\n",
            "\u001b[1m15/15\u001b[0m \u001b[32m━━━━━━━━━━━━━━━━━━━━\u001b[0m\u001b[37m\u001b[0m \u001b[1m1s\u001b[0m 60ms/step - accuracy: 0.5334 - loss: 1.0552 - val_accuracy: 0.5930 - val_loss: 0.9657\n",
            "Epoch 6/10\n",
            "\u001b[1m15/15\u001b[0m \u001b[32m━━━━━━━━━━━━━━━━━━━━\u001b[0m\u001b[37m\u001b[0m \u001b[1m1s\u001b[0m 59ms/step - accuracy: 0.6381 - loss: 0.8678 - val_accuracy: 0.4223 - val_loss: 1.2854\n",
            "Epoch 7/10\n",
            "\u001b[1m15/15\u001b[0m \u001b[32m━━━━━━━━━━━━━━━━━━━━\u001b[0m\u001b[37m\u001b[0m \u001b[1m1s\u001b[0m 59ms/step - accuracy: 0.5748 - loss: 1.0052 - val_accuracy: 0.5821 - val_loss: 0.9110\n",
            "Epoch 8/10\n",
            "\u001b[1m15/15\u001b[0m \u001b[32m━━━━━━━━━━━━━━━━━━━━\u001b[0m\u001b[37m\u001b[0m \u001b[1m1s\u001b[0m 59ms/step - accuracy: 0.6352 - loss: 0.8229 - val_accuracy: 0.6499 - val_loss: 0.8269\n",
            "Epoch 9/10\n",
            "\u001b[1m15/15\u001b[0m \u001b[32m━━━━━━━━━━━━━━━━━━━━\u001b[0m\u001b[37m\u001b[0m \u001b[1m1s\u001b[0m 61ms/step - accuracy: 0.7030 - loss: 0.7165 - val_accuracy: 0.7046 - val_loss: 0.7810\n",
            "Epoch 10/10\n",
            "\u001b[1m15/15\u001b[0m \u001b[32m━━━━━━━━━━━━━━━━━━━━\u001b[0m\u001b[37m\u001b[0m \u001b[1m1s\u001b[0m 63ms/step - accuracy: 0.7569 - loss: 0.5804 - val_accuracy: 0.6608 - val_loss: 0.8098\n"
          ]
        }
      ]
    },
    {
      "cell_type": "code",
      "source": [
        "loss2,accuracy2 = modelAlexnet.evaluate(test_img,test_label)"
      ],
      "metadata": {
        "colab": {
          "base_uri": "https://localhost:8080/"
        },
        "id": "qouqU-uF2THb",
        "outputId": "c2fcef75-1756-4874-b07c-ab00b9fab782"
      },
      "execution_count": 119,
      "outputs": [
        {
          "output_type": "stream",
          "name": "stdout",
          "text": [
            "\u001b[1m31/31\u001b[0m \u001b[32m━━━━━━━━━━━━━━━━━━━━\u001b[0m\u001b[37m\u001b[0m \u001b[1m2s\u001b[0m 29ms/step - accuracy: 0.6536 - loss: 0.7702\n"
          ]
        }
      ]
    },
    {
      "cell_type": "markdown",
      "source": [
        "### LeNet"
      ],
      "metadata": {
        "id": "AW9ZgCyL2z1P"
      }
    },
    {
      "cell_type": "code",
      "source": [
        "modelLenet = Sequential()\n",
        "\n",
        "modelLenet.add(Conv2D(filters=6,kernel_size=(5,5),padding=\"valid\",activation=\"relu\",input_shape=(128,128,3)))\n",
        "modelLenet.add(MaxPooling2D(pool_size=(2,2)))\n",
        "modelLenet.add(Conv2D(filters=16,kernel_size=(5,5),activation=\"relu\"))\n",
        "modelLenet.add(MaxPooling2D(pool_size=(2,2)))\n",
        "\n",
        "modelLenet.add(Flatten())\n",
        "\n",
        "modelLenet.add(Dense(120,activation=\"relu\"))\n",
        "\n",
        "modelLenet.add(Dense(4,activation=\"softmax\"))\n",
        "\n",
        "modelLenet.compile(metrics=[\"accuracy\"],optimizer=\"adam\",loss=\"categorical_crossentropy\")"
      ],
      "metadata": {
        "id": "ZgzksZR-21aB"
      },
      "execution_count": 120,
      "outputs": []
    },
    {
      "cell_type": "code",
      "source": [
        "history = modelLenet.fit(train_img,train_label,epochs=10,batch_size=128,validation_split=0.2)"
      ],
      "metadata": {
        "colab": {
          "base_uri": "https://localhost:8080/"
        },
        "id": "t8lsSp-Z2-TS",
        "outputId": "57da937c-2aea-4bf4-c217-6c35d28fb695"
      },
      "execution_count": 121,
      "outputs": [
        {
          "output_type": "stream",
          "name": "stdout",
          "text": [
            "Epoch 1/10\n",
            "\u001b[1m15/15\u001b[0m \u001b[32m━━━━━━━━━━━━━━━━━━━━\u001b[0m\u001b[37m\u001b[0m \u001b[1m5s\u001b[0m 199ms/step - accuracy: 0.3043 - loss: 193.3338 - val_accuracy: 0.3326 - val_loss: 6.0187\n",
            "Epoch 2/10\n",
            "\u001b[1m15/15\u001b[0m \u001b[32m━━━━━━━━━━━━━━━━━━━━\u001b[0m\u001b[37m\u001b[0m \u001b[1m0s\u001b[0m 26ms/step - accuracy: 0.3652 - loss: 3.7617 - val_accuracy: 0.4814 - val_loss: 1.3081\n",
            "Epoch 3/10\n",
            "\u001b[1m15/15\u001b[0m \u001b[32m━━━━━━━━━━━━━━━━━━━━\u001b[0m\u001b[37m\u001b[0m \u001b[1m1s\u001b[0m 23ms/step - accuracy: 0.4824 - loss: 1.2030 - val_accuracy: 0.5317 - val_loss: 1.1428\n",
            "Epoch 4/10\n",
            "\u001b[1m15/15\u001b[0m \u001b[32m━━━━━━━━━━━━━━━━━━━━\u001b[0m\u001b[37m\u001b[0m \u001b[1m0s\u001b[0m 23ms/step - accuracy: 0.5784 - loss: 1.0320 - val_accuracy: 0.5624 - val_loss: 1.0602\n",
            "Epoch 5/10\n",
            "\u001b[1m15/15\u001b[0m \u001b[32m━━━━━━━━━━━━━━━━━━━━\u001b[0m\u001b[37m\u001b[0m \u001b[1m0s\u001b[0m 25ms/step - accuracy: 0.6273 - loss: 0.9095 - val_accuracy: 0.5733 - val_loss: 0.9698\n",
            "Epoch 6/10\n",
            "\u001b[1m15/15\u001b[0m \u001b[32m━━━━━━━━━━━━━━━━━━━━\u001b[0m\u001b[37m\u001b[0m \u001b[1m1s\u001b[0m 23ms/step - accuracy: 0.6762 - loss: 0.7786 - val_accuracy: 0.6324 - val_loss: 0.9112\n",
            "Epoch 7/10\n",
            "\u001b[1m15/15\u001b[0m \u001b[32m━━━━━━━━━━━━━━━━━━━━\u001b[0m\u001b[37m\u001b[0m \u001b[1m1s\u001b[0m 25ms/step - accuracy: 0.7547 - loss: 0.6264 - val_accuracy: 0.6761 - val_loss: 0.8307\n",
            "Epoch 8/10\n",
            "\u001b[1m15/15\u001b[0m \u001b[32m━━━━━━━━━━━━━━━━━━━━\u001b[0m\u001b[37m\u001b[0m \u001b[1m1s\u001b[0m 23ms/step - accuracy: 0.8342 - loss: 0.4794 - val_accuracy: 0.6871 - val_loss: 0.8063\n",
            "Epoch 9/10\n",
            "\u001b[1m15/15\u001b[0m \u001b[32m━━━━━━━━━━━━━━━━━━━━\u001b[0m\u001b[37m\u001b[0m \u001b[1m1s\u001b[0m 25ms/step - accuracy: 0.8789 - loss: 0.3655 - val_accuracy: 0.7374 - val_loss: 0.7576\n",
            "Epoch 10/10\n",
            "\u001b[1m15/15\u001b[0m \u001b[32m━━━━━━━━━━━━━━━━━━━━\u001b[0m\u001b[37m\u001b[0m \u001b[1m0s\u001b[0m 23ms/step - accuracy: 0.9236 - loss: 0.2499 - val_accuracy: 0.7549 - val_loss: 0.7302\n"
          ]
        }
      ]
    },
    {
      "cell_type": "code",
      "source": [
        "loss,accuracy = modelLenet.evaluate(test_img,test_label)"
      ],
      "metadata": {
        "colab": {
          "base_uri": "https://localhost:8080/"
        },
        "id": "IbNC1xFJ2_Xx",
        "outputId": "9c4da99d-701e-4847-93f6-dfb269a7a335"
      },
      "execution_count": 122,
      "outputs": [
        {
          "output_type": "stream",
          "name": "stdout",
          "text": [
            "\u001b[1m31/31\u001b[0m \u001b[32m━━━━━━━━━━━━━━━━━━━━\u001b[0m\u001b[37m\u001b[0m \u001b[1m1s\u001b[0m 23ms/step - accuracy: 0.7553 - loss: 0.7079\n"
          ]
        }
      ]
    },
    {
      "cell_type": "code",
      "source": [],
      "metadata": {
        "id": "v2XVF5cuc-9q"
      },
      "execution_count": 122,
      "outputs": []
    }
  ]
}